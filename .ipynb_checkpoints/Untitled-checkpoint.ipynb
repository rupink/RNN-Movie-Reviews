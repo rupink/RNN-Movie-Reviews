{
 "cells": [
  {
   "cell_type": "code",
   "execution_count": 1,
   "metadata": {},
   "outputs": [],
   "source": [
    "from Imports import *\n",
    "from Mapping_Adj import *\n",
    "from Training_Funcs import *\n",
    "from Funcs_150 import *\n",
    "from Node2Vec_RandomWalk import *"
   ]
  },
  {
   "cell_type": "code",
   "execution_count": 2,
   "metadata": {},
   "outputs": [],
   "source": [
    "n_users = len(ratings_train.userId.unique())\n",
    "n_movies = len(ratings_train.movieId.unique())\n",
    "n = n_users + n_movies\n",
    "d = 10\n",
    "device = 'cuda'\n",
    "embedding = torch.nn.Embedding(n, d)"
   ]
  },
  {
   "cell_type": "code",
   "execution_count": 3,
   "metadata": {},
   "outputs": [],
   "source": [
    "map_movies, map_users, map_idx_user, map_idx_movie = Map_Movies_Users(ratings_train)"
   ]
  },
  {
   "cell_type": "code",
   "execution_count": 4,
   "metadata": {},
   "outputs": [
    {
     "ename": "IndexError",
     "evalue": "index 522 is out of bounds for axis 0 with size 522",
     "output_type": "error",
     "traceback": [
      "\u001b[1;31m---------------------------------------------------------------------------\u001b[0m",
      "\u001b[1;31mIndexError\u001b[0m                                Traceback (most recent call last)",
      "\u001b[1;32m~\\AppData\\Local\\Temp\\ipykernel_23892\\2930615153.py\u001b[0m in \u001b[0;36m<module>\u001b[1;34m\u001b[0m\n\u001b[1;32m----> 1\u001b[1;33m \u001b[0mA\u001b[0m \u001b[1;33m=\u001b[0m \u001b[0mCreate_Adjacency_Matrix\u001b[0m\u001b[1;33m(\u001b[0m\u001b[0mratings_train\u001b[0m\u001b[1;33m,\u001b[0m\u001b[0mmap_movies\u001b[0m\u001b[1;33m,\u001b[0m \u001b[0mmap_users\u001b[0m\u001b[1;33m,\u001b[0m \u001b[0mn_users\u001b[0m\u001b[1;33m,\u001b[0m \u001b[0mn_movies\u001b[0m  \u001b[1;33m)\u001b[0m\u001b[1;33m\u001b[0m\u001b[1;33m\u001b[0m\u001b[0m\n\u001b[0m",
      "\u001b[1;32m~\\Documents\\GitHub\\RNN-Movie-Reviews\\Mapping_Adj.py\u001b[0m in \u001b[0;36mCreate_Adjacency_Matrix\u001b[1;34m(ratings_train, map_movies, map_users, n_movies, n_users)\u001b[0m\n\u001b[0;32m     31\u001b[0m         \u001b[0mA\u001b[0m\u001b[1;33m[\u001b[0m\u001b[0mmap_users\u001b[0m\u001b[1;33m[\u001b[0m\u001b[0mratings_train\u001b[0m\u001b[1;33m[\u001b[0m\u001b[1;34m\"userId\"\u001b[0m\u001b[1;33m]\u001b[0m\u001b[1;33m[\u001b[0m\u001b[0mindex\u001b[0m\u001b[1;33m]\u001b[0m\u001b[1;33m]\u001b[0m\u001b[1;33m]\u001b[0m\u001b[1;33m[\u001b[0m\u001b[0mmap_movies\u001b[0m\u001b[1;33m[\u001b[0m\u001b[0mratings_train\u001b[0m\u001b[1;33m[\u001b[0m\u001b[1;34m\"movieId\"\u001b[0m\u001b[1;33m]\u001b[0m\u001b[1;33m[\u001b[0m\u001b[0mindex\u001b[0m\u001b[1;33m]\u001b[0m\u001b[1;33m]\u001b[0m\u001b[1;33m]\u001b[0m \u001b[1;33m=\u001b[0m \u001b[1;36m1\u001b[0m\u001b[1;33m\u001b[0m\u001b[1;33m\u001b[0m\u001b[0m\n\u001b[0;32m     32\u001b[0m       \u001b[1;32melse\u001b[0m\u001b[1;33m:\u001b[0m\u001b[1;33m\u001b[0m\u001b[1;33m\u001b[0m\u001b[0m\n\u001b[1;32m---> 33\u001b[1;33m         \u001b[0mA\u001b[0m\u001b[1;33m[\u001b[0m\u001b[0mmap_users\u001b[0m\u001b[1;33m[\u001b[0m\u001b[0mratings_train\u001b[0m\u001b[1;33m[\u001b[0m\u001b[1;34m\"userId\"\u001b[0m\u001b[1;33m]\u001b[0m\u001b[1;33m[\u001b[0m\u001b[0mindex\u001b[0m\u001b[1;33m]\u001b[0m\u001b[1;33m]\u001b[0m\u001b[1;33m]\u001b[0m\u001b[1;33m[\u001b[0m\u001b[0mmap_movies\u001b[0m\u001b[1;33m[\u001b[0m\u001b[0mratings_train\u001b[0m\u001b[1;33m[\u001b[0m\u001b[1;34m\"movieId\"\u001b[0m\u001b[1;33m]\u001b[0m\u001b[1;33m[\u001b[0m\u001b[0mindex\u001b[0m\u001b[1;33m]\u001b[0m\u001b[1;33m]\u001b[0m\u001b[1;33m]\u001b[0m \u001b[1;33m=\u001b[0m \u001b[1;33m-\u001b[0m\u001b[1;36m1\u001b[0m\u001b[1;33m\u001b[0m\u001b[1;33m\u001b[0m\u001b[0m\n\u001b[0m\u001b[0;32m     34\u001b[0m \u001b[1;33m\u001b[0m\u001b[0m\n\u001b[0;32m     35\u001b[0m     \u001b[1;32mreturn\u001b[0m \u001b[0mA\u001b[0m\u001b[1;33m\u001b[0m\u001b[1;33m\u001b[0m\u001b[0m\n",
      "\u001b[1;31mIndexError\u001b[0m: index 522 is out of bounds for axis 0 with size 522"
     ]
    }
   ],
   "source": [
    "A = Create_Adjacency_Matrix(ratings_train,map_movies,map_users,n_movies,n_users)"
   ]
  }
 ],
 "metadata": {
  "kernelspec": {
   "display_name": "Python 3 (ipykernel)",
   "language": "python",
   "name": "python3"
  },
  "language_info": {
   "codemirror_mode": {
    "name": "ipython",
    "version": 3
   },
   "file_extension": ".py",
   "mimetype": "text/x-python",
   "name": "python",
   "nbconvert_exporter": "python",
   "pygments_lexer": "ipython3",
   "version": "3.7.6"
  }
 },
 "nbformat": 4,
 "nbformat_minor": 4
}
